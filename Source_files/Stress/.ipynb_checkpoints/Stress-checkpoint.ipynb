{
 "cells": [
  {
   "cell_type": "markdown",
   "metadata": {},
   "source": [
    "Calculating Stress and Strain\n"
   ]
  },
  {
   "cell_type": "code",
   "execution_count": 20,
   "metadata": {},
   "outputs": [
    {
     "ename": "RecursionError",
     "evalue": "maximum recursion depth exceeded",
     "output_type": "error",
     "traceback": [
      "\u001b[0;31m---------------------------------------------------------------------------\u001b[0m",
      "\u001b[0;31mRecursionError\u001b[0m                            Traceback (most recent call last)",
      "\u001b[0;32m<ipython-input-20-71360deb32e5>\u001b[0m in \u001b[0;36m<module>\u001b[0;34m\u001b[0m\n\u001b[1;32m     66\u001b[0m \u001b[0;34m\u001b[0m\u001b[0m\n\u001b[1;32m     67\u001b[0m \u001b[0;34m\u001b[0m\u001b[0m\n\u001b[0;32m---> 68\u001b[0;31m \u001b[0mprint\u001b[0m\u001b[0;34m(\u001b[0m\u001b[0mStressR\u001b[0m\u001b[0;34m(\u001b[0m\u001b[0;36m5\u001b[0m\u001b[0;34m)\u001b[0m\u001b[0;34m)\u001b[0m\u001b[0;34m\u001b[0m\u001b[0;34m\u001b[0m\u001b[0m\n\u001b[0m\u001b[1;32m     69\u001b[0m \u001b[0;34m\u001b[0m\u001b[0m\n\u001b[1;32m     70\u001b[0m \u001b[0;31m#---------------------------------------------------------------------------------\u001b[0m\u001b[0;34m\u001b[0m\u001b[0;34m\u001b[0m\u001b[0;34m\u001b[0m\u001b[0m\n",
      "\u001b[0;32m<ipython-input-20-71360deb32e5>\u001b[0m in \u001b[0;36mStressR\u001b[0;34m(i)\u001b[0m\n\u001b[1;32m     47\u001b[0m \u001b[0;34m\u001b[0m\u001b[0m\n\u001b[1;32m     48\u001b[0m \u001b[0;32mdef\u001b[0m \u001b[0mStressR\u001b[0m\u001b[0;34m(\u001b[0m\u001b[0mi\u001b[0m\u001b[0;34m)\u001b[0m\u001b[0;34m:\u001b[0m\u001b[0;34m\u001b[0m\u001b[0;34m\u001b[0m\u001b[0m\n\u001b[0;32m---> 49\u001b[0;31m     \u001b[0mf\u001b[0m \u001b[0;34m=\u001b[0m \u001b[0mFcoef\u001b[0m\u001b[0;34m(\u001b[0m\u001b[0mi\u001b[0m\u001b[0;34m)\u001b[0m\u001b[0;34m\u001b[0m\u001b[0;34m\u001b[0m\u001b[0m\n\u001b[0m\u001b[1;32m     50\u001b[0m     return ( A/(q-m) +2*f*((l+m)*np.log(r)+q)/(3*(l+m)) - \n\u001b[1;32m     51\u001b[0m             K*((1+m*(1-2*nu)/(q-m))*SigmaR(i-1) + \n",
      "\u001b[0;32m<ipython-input-20-71360deb32e5>\u001b[0m in \u001b[0;36mFcoef\u001b[0;34m(i)\u001b[0m\n\u001b[1;32m     36\u001b[0m \u001b[0;34m\u001b[0m\u001b[0m\n\u001b[1;32m     37\u001b[0m \u001b[0;32mdef\u001b[0m \u001b[0mFcoef\u001b[0m\u001b[0;34m(\u001b[0m\u001b[0mi\u001b[0m\u001b[0;34m)\u001b[0m\u001b[0;34m:\u001b[0m\u001b[0;34m\u001b[0m\u001b[0;34m\u001b[0m\u001b[0m\n\u001b[0;32m---> 38\u001b[0;31m     \u001b[0mg\u001b[0m\u001b[0;34m=\u001b[0m\u001b[0mGcoef\u001b[0m\u001b[0;34m(\u001b[0m\u001b[0mi\u001b[0m\u001b[0;34m-\u001b[0m\u001b[0;36m1\u001b[0m\u001b[0;34m)\u001b[0m\u001b[0;34m\u001b[0m\u001b[0;34m\u001b[0m\u001b[0m\n\u001b[0m\u001b[1;32m     39\u001b[0m     \u001b[0;32mif\u001b[0m \u001b[0mi\u001b[0m\u001b[0;34m==\u001b[0m\u001b[0;36m1\u001b[0m\u001b[0;34m:\u001b[0m\u001b[0;34m\u001b[0m\u001b[0;34m\u001b[0m\u001b[0m\n\u001b[1;32m     40\u001b[0m         \u001b[0;32mreturn\u001b[0m \u001b[0;34m(\u001b[0m\u001b[0;34m(\u001b[0m\u001b[0mE_sw_r\u001b[0m \u001b[0;34m+\u001b[0m \u001b[0mE_th_r\u001b[0m\u001b[0;34m)\u001b[0m \u001b[0;34m-\u001b[0m \u001b[0;34m(\u001b[0m\u001b[0mE_sw_t\u001b[0m \u001b[0;34m+\u001b[0m \u001b[0mE_th_t\u001b[0m\u001b[0;34m)\u001b[0m\u001b[0;34m)\u001b[0m\u001b[0;34m/\u001b[0m\u001b[0mq\u001b[0m\u001b[0;34m\u001b[0m\u001b[0;34m\u001b[0m\u001b[0m\n",
      "\u001b[0;32m<ipython-input-20-71360deb32e5>\u001b[0m in \u001b[0;36mGcoef\u001b[0;34m(i)\u001b[0m\n\u001b[1;32m     25\u001b[0m \u001b[0;34m\u001b[0m\u001b[0m\n\u001b[1;32m     26\u001b[0m \u001b[0;32mdef\u001b[0m \u001b[0mGcoef\u001b[0m\u001b[0;34m(\u001b[0m\u001b[0mi\u001b[0m\u001b[0;34m)\u001b[0m\u001b[0;34m:\u001b[0m\u001b[0;34m\u001b[0m\u001b[0;34m\u001b[0m\u001b[0m\n\u001b[0;32m---> 27\u001b[0;31m     \u001b[0mf\u001b[0m \u001b[0;34m=\u001b[0m \u001b[0mFcoef\u001b[0m\u001b[0;34m(\u001b[0m\u001b[0mi\u001b[0m\u001b[0;34m)\u001b[0m\u001b[0;34m\u001b[0m\u001b[0;34m\u001b[0m\u001b[0m\n\u001b[0m\u001b[1;32m     28\u001b[0m     \u001b[0;32mif\u001b[0m \u001b[0mi\u001b[0m\u001b[0;34m==\u001b[0m\u001b[0;36m0\u001b[0m\u001b[0;34m:\u001b[0m\u001b[0;34m\u001b[0m\u001b[0;34m\u001b[0m\u001b[0m\n\u001b[1;32m     29\u001b[0m         \u001b[0mg\u001b[0m\u001b[0;34m=\u001b[0m\u001b[0;36m0\u001b[0m\u001b[0;34m\u001b[0m\u001b[0;34m\u001b[0m\u001b[0m\n",
      "... last 2 frames repeated, from the frame below ...\n",
      "\u001b[0;32m<ipython-input-20-71360deb32e5>\u001b[0m in \u001b[0;36mFcoef\u001b[0;34m(i)\u001b[0m\n\u001b[1;32m     36\u001b[0m \u001b[0;34m\u001b[0m\u001b[0m\n\u001b[1;32m     37\u001b[0m \u001b[0;32mdef\u001b[0m \u001b[0mFcoef\u001b[0m\u001b[0;34m(\u001b[0m\u001b[0mi\u001b[0m\u001b[0;34m)\u001b[0m\u001b[0;34m:\u001b[0m\u001b[0;34m\u001b[0m\u001b[0;34m\u001b[0m\u001b[0m\n\u001b[0;32m---> 38\u001b[0;31m     \u001b[0mg\u001b[0m\u001b[0;34m=\u001b[0m\u001b[0mGcoef\u001b[0m\u001b[0;34m(\u001b[0m\u001b[0mi\u001b[0m\u001b[0;34m-\u001b[0m\u001b[0;36m1\u001b[0m\u001b[0;34m)\u001b[0m\u001b[0;34m\u001b[0m\u001b[0;34m\u001b[0m\u001b[0m\n\u001b[0m\u001b[1;32m     39\u001b[0m     \u001b[0;32mif\u001b[0m \u001b[0mi\u001b[0m\u001b[0;34m==\u001b[0m\u001b[0;36m1\u001b[0m\u001b[0;34m:\u001b[0m\u001b[0;34m\u001b[0m\u001b[0;34m\u001b[0m\u001b[0m\n\u001b[1;32m     40\u001b[0m         \u001b[0;32mreturn\u001b[0m \u001b[0;34m(\u001b[0m\u001b[0;34m(\u001b[0m\u001b[0mE_sw_r\u001b[0m \u001b[0;34m+\u001b[0m \u001b[0mE_th_r\u001b[0m\u001b[0;34m)\u001b[0m \u001b[0;34m-\u001b[0m \u001b[0;34m(\u001b[0m\u001b[0mE_sw_t\u001b[0m \u001b[0;34m+\u001b[0m \u001b[0mE_th_t\u001b[0m\u001b[0;34m)\u001b[0m\u001b[0;34m)\u001b[0m\u001b[0;34m/\u001b[0m\u001b[0mq\u001b[0m\u001b[0;34m\u001b[0m\u001b[0;34m\u001b[0m\u001b[0m\n",
      "\u001b[0;31mRecursionError\u001b[0m: maximum recursion depth exceeded"
     ]
    }
   ],
   "source": [
    "import numpy as np\n",
    "\n",
    "#input values\n",
    "#------------------\n",
    "K= 0\n",
    "nu= 0\n",
    "mu = 0.33\n",
    "E= 0.000396  # MPa \n",
    "\n",
    "#------------------\n",
    "\n",
    "m=mu/E\n",
    "q=(1-mu)/E\n",
    "l=1/E\n",
    "h=2*mu/E\n",
    "\n",
    "#------------------\n",
    "E_sw_r =0.1\n",
    "E_th_r =0.2\n",
    "E_sw_t =0.3\n",
    "E_th_t =0.4\n",
    "#------------------\n",
    "\n",
    "#---------------------------------------------------------------------------------\n",
    "\n",
    "def Gcoef(i):\n",
    "    f = Fcoef(i)\n",
    "    if i==0:\n",
    "        g=0\n",
    "    else:\n",
    "        g= f - K*(1-2*nu)*Gcoef(i-1)/((i+1)*(q-m))  \n",
    "    return g\n",
    "\n",
    "#---------------------------------------------------------------------------------\n",
    "\n",
    "\n",
    "def Fcoef(i): \n",
    "    g=Gcoef(i-1)\n",
    "    if i==1:\n",
    "        return ((E_sw_r + E_th_r) - (E_sw_t + E_th_t))/q\n",
    "    else:\n",
    "        return (K*(l*nu-m)*g/(2*q*(q-m)*(i+1)) + \n",
    "            ((E_sw_r + E_th_r) - (E_sw_t + E_th_t))/(i+1))\n",
    "\n",
    "#---------------------------------------------------------------------------------\n",
    "\n",
    "\n",
    "def StressR(i):\n",
    "    f = Fcoef(i)\n",
    "    return ( A/(q-m) +2*f*((l+m)*np.log(r)+q)/(3*(l+m)) - \n",
    "            K*((1+m*(1-2*nu)/(q-m))*SigmaR(i-1) + \n",
    "            (l*(1-2*nu)/(q-m) -1)*SigmaT(i-1))/((i+1)*(l+m))-\n",
    "            2*B*pow(r,-3)/(l+m)-(q*(E_sw_r + E_th_r) +\n",
    "            h*(E_sw_t + E_th_t))/((i+1)(q*l-h*m)))\n",
    "\n",
    "#---------------------------------------------------------------------------------\n",
    "\n",
    "\n",
    "def StressT(i):\n",
    "    f = Fcoef(i)\n",
    "    return ( StressR(i) + 3*B*pow(r,-3)/(l+m) - 2*f*(q-m)/(3*(l+m))+ \n",
    "            3*K*(2*(1+nu)*(SigmaR(i-1) -SigmaT(i-1))/3 )/(2*(l+m)*(i+1)) +\n",
    "            ((E_sw_r + E_th_r) - (E_sw_t + E_th_t))/((i+1)*(l+m)))\n",
    "\n",
    "#---------------------------------------------------------------------------------\n",
    "\n",
    "\n",
    "print(StressR(5))\n",
    "\n",
    "#---------------------------------------------------------------------------------\n",
    "\n"
   ]
  },
  {
   "cell_type": "code",
   "execution_count": null,
   "metadata": {},
   "outputs": [],
   "source": []
  }
 ],
 "metadata": {
  "kernelspec": {
   "display_name": "Python 3",
   "language": "python",
   "name": "python3"
  },
  "language_info": {
   "codemirror_mode": {
    "name": "ipython",
    "version": 3
   },
   "file_extension": ".py",
   "mimetype": "text/x-python",
   "name": "python",
   "nbconvert_exporter": "python",
   "pygments_lexer": "ipython3",
   "version": "3.7.1"
  }
 },
 "nbformat": 4,
 "nbformat_minor": 2
}
