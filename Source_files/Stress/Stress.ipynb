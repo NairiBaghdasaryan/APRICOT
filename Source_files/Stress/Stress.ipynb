{
 "cells": [
  {
   "cell_type": "markdown",
   "metadata": {},
   "source": [
    "Calculating Stress and Strain\n"
   ]
  },
  {
   "cell_type": "code",
   "execution_count": 36,
   "metadata": {},
   "outputs": [
    {
     "name": "stdout",
     "output_type": "stream",
     "text": [
      "-0.07504252793869085\n"
     ]
    }
   ],
   "source": [
    "import numpy as np\n",
    "\n",
    "#input values\n",
    "#------------------\n",
    "K= 0\n",
    "nu= 0\n",
    "mu = 0.33\n",
    "E= 0.000396  # MPa \n",
    "\n",
    "#------------------\n",
    "\n",
    "m=mu/E\n",
    "q=(1-mu)/E\n",
    "l=1/E\n",
    "h=2*mu/E\n",
    "\n",
    "#------------------\n",
    "E_sw_r =0.1\n",
    "E_th_r =0.2\n",
    "E_sw_t =0.3\n",
    "E_th_t =0.4\n",
    "#------------------\n",
    "A=2\n",
    "B=3\n",
    "r=0.27\n",
    "#------------------\n",
    "sigmaR = 1.2\n",
    "sigmaT = 2.3\n",
    "#---------------------------------------------------------------------------------\n",
    "\n",
    "def Gcoef(i):\n",
    "    \n",
    "    if i==0:\n",
    "        return 0\n",
    "    else:\n",
    "        f = Fcoef(i)\n",
    "        g= f - K*(1-2*nu)*Gcoef(i-1)/((i+1)*(q-m))  \n",
    "        return g\n",
    "\n",
    "#---------------------------------------------------------------------------------\n",
    "\n",
    "\n",
    "def Fcoef(i): \n",
    "    \n",
    "    if i==1:\n",
    "        return ((E_sw_r + E_th_r) - (E_sw_t + E_th_t))/q\n",
    "    else:\n",
    "        g=Gcoef(i-1)\n",
    "        f= (K*(l*nu-m)*g/(2*q*(q-m)*(i+1)) + \n",
    "            ((E_sw_r + E_th_r) - (E_sw_t + E_th_t))/(i+1))\n",
    "        return f\n",
    "\n",
    "#---------------------------------------------------------------------------------\n",
    "\n",
    "\n",
    "def StressR(i):\n",
    "    #print(i)\n",
    "    if i==0:\n",
    "        return sigmaR\n",
    "    else:\n",
    "        f = Fcoef(i)\n",
    "        #print(f)\n",
    "        #print(\"heyy\")\n",
    "        sigR  = (A/(q-m) +2*f*((l+m)*np.log(r)+q)/(3*(l+m)) - \n",
    "            K*((1+m*(1-2*nu)/(q-m))*StressR(i-1) + \n",
    "            (l*(1-2*nu)/(q-m) -1)*StressT(i-1))/((i+1)*(l+m))-\n",
    "            2*B*pow(r,-3)/(l+m)-(q*(E_sw_r + E_th_r) +\n",
    "            h*(E_sw_t + E_th_t))/((i+1)*(q*l-h*m)))\n",
    "        return sigR\n",
    "\n",
    "#---------------------------------------------------------------------------------\n",
    "\n",
    "\n",
    "def StressT(i):\n",
    "    if i==0:\n",
    "        return sigmaT\n",
    "    else:\n",
    "        f = Fcoef(i)\n",
    "        #print(\"heyy\")\n",
    "        sigT = (StressR(i) + 3*B*pow(r,-3)/(l+m) - 2*f*(q-m)/(3*(l+m))+ \n",
    "            3*K*(2*(1+nu)*(StressR(i-1) - StressT(i-1))/3 )/(2*(l+m)*(i+1)) +\n",
    "            ((E_sw_r + E_th_r) - (E_sw_t + E_th_t))/((i+1)*(l+m)))\n",
    "\n",
    "        return sigT\n",
    "#---------------------------------------------------------------------------------\n",
    "\n",
    "\n",
    "print(StressR(15))\n",
    "\n",
    "#print(StressT(0))\n",
    "\n",
    "#---------------------------------------------------------------------------------\n",
    "\n"
   ]
  },
  {
   "cell_type": "code",
   "execution_count": 38,
   "metadata": {},
   "outputs": [
    {
     "name": "stdout",
     "output_type": "stream",
     "text": [
      "0.06535350628266498\n"
     ]
    }
   ],
   "source": [
    "print(StressT(15))"
   ]
  },
  {
   "cell_type": "code",
   "execution_count": 39,
   "metadata": {},
   "outputs": [
    {
     "name": "stdout",
     "output_type": "stream",
     "text": [
      "-0.07504252793869085\n"
     ]
    }
   ],
   "source": [
    "print(StressR(16))"
   ]
  },
  {
   "cell_type": "code",
   "execution_count": 40,
   "metadata": {},
   "outputs": [
    {
     "name": "stdout",
     "output_type": "stream",
     "text": [
      "0.06431567378555574\n"
     ]
    }
   ],
   "source": [
    "print(StressT(16))"
   ]
  },
  {
   "cell_type": "code",
   "execution_count": null,
   "metadata": {},
   "outputs": [],
   "source": []
  }
 ],
 "metadata": {
  "kernelspec": {
   "display_name": "Python 3",
   "language": "python",
   "name": "python3"
  },
  "language_info": {
   "codemirror_mode": {
    "name": "ipython",
    "version": 3
   },
   "file_extension": ".py",
   "mimetype": "text/x-python",
   "name": "python",
   "nbconvert_exporter": "python",
   "pygments_lexer": "ipython3",
   "version": "3.7.1"
  }
 },
 "nbformat": 4,
 "nbformat_minor": 2
}
